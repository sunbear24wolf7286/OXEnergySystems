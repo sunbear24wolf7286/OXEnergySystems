{
 "cells": [
  {
   "cell_type": "code",
   "execution_count": 28,
   "id": "395fa57b-c300-4982-9cd3-c7e614ac7dc7",
   "metadata": {},
   "outputs": [],
   "source": [
    "import math\n",
    "\n",
    "def solarpvsizing():\n",
    "    # Type inputs\n",
    "    building_width = float(input(\"Width of building in meters: \"))\n",
    "    building_length = float(input(\"Length of building in meters: \"))\n",
    "    roof_angle = float(input(\"Angle of roof in degrees: \"))\n",
    "    pv_width = float(input(\"Longer dimension of solar panel in milimeters: \"))\n",
    "    pv_height = float(input(\"Shorter dimension of solar panel in milimeters: \"))\n",
    "    pv_power = float(input(\"Power of one solar panel unit in watts: \"))\n",
    "    \n",
    "                           \n",
    "    # Convert to consistent units\n",
    "    pv_width = pv_width * 0.001\n",
    "    pv_height = pv_height * 0.001\n",
    "    roof_angle = math.radians(roof_angle)\n",
    "    pv_power = pv_power * 0.001\n",
    "    \n",
    "    # Calculate roof dimensions\n",
    "    roof_width = 0.5 * building_width\n",
    "    roof_length = building_length\n",
    "    roof_slant_width = roof_width / math.cos(roof_angle)  # Corrected to radians\n",
    "    \n",
    "    # Calculate PV panel area\n",
    "    panels_along_width = math.floor(roof_slant_width/pv_height)\n",
    "    panels_along_length = math.floor(roof_length/pv_width)\n",
    "    max_panels = panels_along_width * panels_along_length\n",
    "\n",
    "    # Calculate maximum power capacity\n",
    "    power_capacity = round(max_panels * pv_power)\n",
    "    \n",
    "    return max_panels, power_capacity  # Return as a tuple"
   ]
  },
  {
   "cell_type": "code",
   "execution_count": 29,
   "id": "51432418-169c-4249-a20c-8d8d30507326",
   "metadata": {},
   "outputs": [
    {
     "name": "stdin",
     "output_type": "stream",
     "text": [
      "Width of building in meters:  8\n",
      "Length of building in meters:  28\n",
      "Angle of roof in degrees:  22\n",
      "Longer dimension of solar panel in milimeters:  1690\n",
      "Shorter dimension of solar panel in milimeters:  1046\n",
      "Power of one solar panel unit in watts:  400\n"
     ]
    },
    {
     "data": {
      "text/plain": [
       "(64, 26)"
      ]
     },
     "execution_count": 29,
     "metadata": {},
     "output_type": "execute_result"
    }
   ],
   "source": [
    "solarpvsizing()"
   ]
  },
  {
   "cell_type": "code",
   "execution_count": 27,
   "id": "9dd7ee71-5c21-4122-acd3-c0fab5ea5548",
   "metadata": {
    "scrolled": true
   },
   "outputs": [
    {
     "name": "stdin",
     "output_type": "stream",
     "text": [
      "Width of building in meters:  8\n",
      "Length of building in meters:  28\n",
      "Angle of roof in degrees:  22\n",
      "Longer dimension of solar panel in milimeters:  1690\n",
      "Shorter dimension of solar panel in milimeters:  1046\n",
      "Power of one solar panel unit in watts:  400\n"
     ]
    },
    {
     "data": {
      "text/plain": [
       "(48, 19)"
      ]
     },
     "execution_count": 27,
     "metadata": {},
     "output_type": "execute_result"
    }
   ],
   "source": [
    "solarpvsizing()"
   ]
  },
  {
   "cell_type": "code",
   "execution_count": null,
   "id": "65b3d776-bbfe-4b4b-9e2c-7c6ec4083f9a",
   "metadata": {},
   "outputs": [],
   "source": []
  }
 ],
 "metadata": {
  "kernelspec": {
   "display_name": "Python 3 (ipykernel)",
   "language": "python",
   "name": "python3"
  },
  "language_info": {
   "codemirror_mode": {
    "name": "ipython",
    "version": 3
   },
   "file_extension": ".py",
   "mimetype": "text/x-python",
   "name": "python",
   "nbconvert_exporter": "python",
   "pygments_lexer": "ipython3",
   "version": "3.12.5"
  }
 },
 "nbformat": 4,
 "nbformat_minor": 5
}
