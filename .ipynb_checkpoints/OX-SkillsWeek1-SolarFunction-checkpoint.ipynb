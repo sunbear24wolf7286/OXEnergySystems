{
 "cells": [
  {
   "cell_type": "code",
   "execution_count": 3,
   "id": "395fa57b-c300-4982-9cd3-c7e614ac7dc7",
   "metadata": {},
   "outputs": [],
   "source": [
    "import math\n",
    "\n",
    "def solarpvsizing():\n",
    "    # Type inputs\n",
    "    building_width = float(input(\"Width of building in meters: \"))\n",
    "    building_length = float(input(\"Length of building in meters: \"))\n",
    "    roof_angle = float(input(\"Angle of roof in degrees: \"))\n",
    "    pv_width = float(input(\"Longer dimension of solar panel in milimeters: \"))\n",
    "    pv_height = float(input(\"Shorter dimension of solar panel in milimeters: \"))\n",
    "    pv_power = float(input(\"Power of one solar panel unit in watts: \"))\n",
    "    \n",
    "                           \n",
    "    # Convert to consistent units\n",
    "    pv_width = pv_width * 0.001\n",
    "    pv_height = pv_height * 0.001\n",
    "    roof_angle = math.radians(roof_angle)\n",
    "    pv_power = pv_power * 0.001\n",
    "    \n",
    "    # Calculate roof dimensions\n",
    "    roof_width = 0.5 * building_width\n",
    "    roof_length = building_length\n",
    "    roof_slant_width = roof_width / math.cos(roof_angle)  # Corrected to radians\n",
    "    \n",
    "    # Calculate PV panel area\n",
    "    panels_along_width = math.floor(roof_slant_width/pv_height)\n",
    "    panels_along_length = math.floor(roof_length/pv_width)\n",
    "    max_panels = panels_along_width * panels_along_length\n",
    "\n",
    "    # Calculate maximum power capacity\n",
    "    power_capacity = round(max_panels * pv_power)\n",
    "\n",
    "    answerstring = \"maximum number of panels = \" + str(max_panels) + \", generation capacity = \" + str(power_capacity)\n",
    "    return print(answerstring)"
   ]
  },
  {
   "cell_type": "code",
   "execution_count": 4,
   "id": "65b3d776-bbfe-4b4b-9e2c-7c6ec4083f9a",
   "metadata": {},
   "outputs": [
    {
     "name": "stdin",
     "output_type": "stream",
     "text": [
      "Width of building in meters:  8\n",
      "Length of building in meters:  28\n",
      "Angle of roof in degrees:  22\n",
      "Longer dimension of solar panel in milimeters:  1690\n",
      "Shorter dimension of solar panel in milimeters:  1046\n",
      "Power of one solar panel unit in watts:  400\n"
     ]
    },
    {
     "name": "stdout",
     "output_type": "stream",
     "text": [
      "maximum number of panels = 64, generation capacity = 26\n"
     ]
    }
   ],
   "source": [
    "solarpvsizing()"
   ]
  },
  {
   "cell_type": "code",
   "execution_count": null,
   "id": "e7578636-61b3-4818-9d36-62809aea7016",
   "metadata": {},
   "outputs": [],
   "source": []
  }
 ],
 "metadata": {
  "kernelspec": {
   "display_name": "Python 3 (ipykernel)",
   "language": "python",
   "name": "python3"
  },
  "language_info": {
   "codemirror_mode": {
    "name": "ipython",
    "version": 3
   },
   "file_extension": ".py",
   "mimetype": "text/x-python",
   "name": "python",
   "nbconvert_exporter": "python",
   "pygments_lexer": "ipython3",
   "version": "3.12.5"
  }
 },
 "nbformat": 4,
 "nbformat_minor": 5
}
